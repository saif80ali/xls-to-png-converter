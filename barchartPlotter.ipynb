{
 "cells": [
  {
   "cell_type": "code",
   "execution_count": 24,
   "id": "cebc23f5",
   "metadata": {},
   "outputs": [
    {
     "name": "stdout",
     "output_type": "stream",
     "text": [
      "Collecting matplotlibNote: you may need to restart the kernel to use updated packages.\n",
      "  Downloading matplotlib-3.5.1-cp39-cp39-win_amd64.whl (7.2 MB)\n",
      "Requirement already satisfied: python-dateutil>=2.7 in c:\\python3.9\\lib\\site-packages (from matplotlib) (2.8.2)\n",
      "Requirement already satisfied: pillow>=6.2.0 in c:\\python3.9\\lib\\site-packages (from matplotlib) (8.4.0)\n",
      "Requirement already satisfied: packaging>=20.0 in c:\\python3.9\\lib\\site-packages (from matplotlib) (21.3)\n",
      "Requirement already satisfied: pyparsing>=2.2.1 in c:\\python3.9\\lib\\site-packages (from matplotlib) (3.0.6)\n",
      "Collecting fonttools>=4.22.0\n",
      "  Downloading fonttools-4.32.0-py3-none-any.whl (900 kB)\n",
      "Collecting cycler>=0.10\n",
      "  Downloading cycler-0.11.0-py3-none-any.whl (6.4 kB)\n",
      "Collecting kiwisolver>=1.0.1\n",
      "  Downloading kiwisolver-1.4.2-cp39-cp39-win_amd64.whl (55 kB)\n",
      "Requirement already satisfied: numpy>=1.17 in c:\\python3.9\\lib\\site-packages (from matplotlib) (1.21.2)\n",
      "Requirement already satisfied: six>=1.5 in c:\\users\\asus\\appdata\\roaming\\python\\python39\\site-packages (from python-dateutil>=2.7->matplotlib) (1.15.0)\n",
      "Installing collected packages: kiwisolver, fonttools, cycler, matplotlib\n",
      "Successfully installed cycler-0.11.0 fonttools-4.32.0 kiwisolver-1.4.2 matplotlib-3.5.1\n",
      "\n"
     ]
    },
    {
     "name": "stderr",
     "output_type": "stream",
     "text": [
      "WARNING: You are using pip version 21.2.4; however, version 22.0.4 is available.\n",
      "You should consider upgrading via the 'c:\\python3.9\\python.exe -m pip install --upgrade pip' command.\n"
     ]
    }
   ],
   "source": [
    "pip install matplotlib"
   ]
  },
  {
   "cell_type": "code",
   "execution_count": 301,
   "id": "2eaafd14",
   "metadata": {},
   "outputs": [],
   "source": [
    "import pandas as pd\n",
    "%matplotlib inline\n",
    "from matplotlib import pyplot as plt\n",
    "from matplotlib import style"
   ]
  },
  {
   "cell_type": "code",
   "execution_count": 302,
   "id": "1d270d51",
   "metadata": {},
   "outputs": [
    {
     "name": "stdout",
     "output_type": "stream",
     "text": [
      "Requirement already satisfied: openpyxl in c:\\python3.9\\lib\\site-packages (3.0.9)\n",
      "Requirement already satisfied: et-xmlfile in c:\\python3.9\\lib\\site-packages (from openpyxl) (1.1.0)\n",
      "Note: you may need to restart the kernel to use updated packages.\n"
     ]
    },
    {
     "name": "stderr",
     "output_type": "stream",
     "text": [
      "WARNING: You are using pip version 21.2.4; however, version 22.0.4 is available.\n",
      "You should consider upgrading via the 'c:\\python3.9\\python.exe -m pip install --upgrade pip' command.\n"
     ]
    }
   ],
   "source": [
    "pip install openpyxl"
   ]
  },
  {
   "cell_type": "code",
   "execution_count": 303,
   "id": "457f3e2f",
   "metadata": {},
   "outputs": [],
   "source": [
    "from matplotlib import cm\n",
    "import numpy as np\n"
   ]
  },
  {
   "cell_type": "code",
   "execution_count": 304,
   "id": "54632b10",
   "metadata": {},
   "outputs": [],
   "source": [
    "data = pd.read_excel (r'Final Copy.xls')\n",
    "df = pd.DataFrame(data)\n",
    "# x = df['Gender'].tolist()\n",
    "# un = list(set(x))\n",
    "\n",
    "# dict1 = {}\n",
    "# for item in un:\n",
    "#     dict1[item] = x.count(item)\n",
    "# print(dict1)\n",
    "\n",
    "# ax.title('Gender')\n",
    "\n",
    "# plt.hist(dict1['Female'])\n",
    "font1 = {'family':'serif','color':'black','size':20,\"fontweight\":\"bold\"}\n",
    "\n",
    "col_names = [name for name in data.columns]\n",
    "# for items in col_names:\n",
    "#     dict_columns[items] = df[items].tolist()"
   ]
  },
  {
   "cell_type": "code",
   "execution_count": 335,
   "id": "ac4f8697",
   "metadata": {},
   "outputs": [
    {
     "data": {
      "image/png": "[encoded data removed]",
      "text/plain": [
       "<Figure size 432x432 with 1 Axes>"
      ]
     },
     "metadata": {},
     "output_type": "display_data"
    }
   ],
   "source": [
    "\n",
    "for item in col_names[4:5]:\n",
    "    dict_options_value = {}\n",
    "    survey_data = df[item].tolist()\n",
    "    options_of_each_question = list(set(survey_data))\n",
    "    \n",
    "    for option in options_of_each_question:\n",
    "        dict_options_value[option] = survey_data.count(option)\n",
    "        \n",
    "    plt.style.use('ggplot')\n",
    "\n",
    "    cs=cm.Set1(np.arange(40)/len(dict_options_value))\n",
    "    plt.figure(figsize=(6,6)).add_subplot(111)\n",
    "#     plt.pie(dict_options_value.values(),startangle=90,autopct='%.2f%%',colors=cs)\n",
    "    \n",
    "    \n",
    "    bar_plot = plt.bar(dict_options_value.keys(),dict_options_value.values(),color= 'blue',width=0.2)\n",
    "    xyz = [f\"{'{:.2f}'.format((word/sum(dict_options_value.values()))*100)}%\" for word in list(dict_options_value.values())]\n",
    "    def autolabel(rects):\n",
    "        for idx,rect in enumerate(bar_plot):\n",
    "            height = rect.get_height()\n",
    "            plt.text(rect.get_x() + rect.get_width()/2., 1*height,\n",
    "            xyz[idx],\n",
    "            ha='center', va='bottom', rotation=0)\n",
    "    autolabel(bar_plot)\n",
    "    \n",
    "    plt.title(item, fontdict = font1)\n",
    "    plt.xticks(rotation=0)\n",
    "#     plt.legend(dict_options_value.keys(),loc=9, bbox_to_anchor=(0,1))\n",
    "    plt.savefig(item[:10] +'.png')\n",
    "    \n",
    "# print(dict_options_value)\n",
    "        \n",
    "# rotation='vertical'"
   ]
  },
  {
   "cell_type": "code",
   "execution_count": 157,
   "id": "600712ea",
   "metadata": {},
   "outputs": [],
   "source": [
    "\n",
    "# font1 = {'family':'serif','color':'black','size':20,\"fontweight\":\"bold\"}\n",
    "# font2 = {'family':'serif','color':'darkred','size':15}\n",
    "# plt.style.use('ggplot')\n",
    "# plt.figure(figsize=(8,6)).add_subplot(111)\n",
    "# plt.pie([dict1['Male'],dict1['Female']],startangle=90,autopct='%.2f')\n",
    "# plt.barh(dict1.keys(),dict1.values(),height=0.4)\n",
    "\n",
    "# plt.title(\"Gender\", fontdict = font1)\n",
    "# plt.text(\"Male\",60,f\"{'{:.2f}'.format((60/sum(dict1.values()))*100)}%\",ha='center',fontsize=14,fontweight=\"bold\")\n",
    "# plt.text(\"Female\",70,f\"{'{:.2f}'.format((70/sum(dict1.values()))*100)}%\",ha='center',fontsize=14,fontweight=\"bold\")\n",
    "# plt.legend(dict1.keys())\n",
    "# plt.show()\n",
    "# plt.savefig('pieOfGFender.png')"
   ]
  },
  {
   "cell_type": "code",
   "execution_count": 79,
   "id": "8e058dbc",
   "metadata": {},
   "outputs": [
    {
     "data": {
      "text/plain": [
       "<BarContainer object of 2 artists>"
      ]
     },
     "execution_count": 79,
     "metadata": {},
     "output_type": "execute_result"
    },
    {
     "data": {
      "image/png": "[encoded data removed]",
      "text/plain": [
       "<Figure size 432x288 with 1 Axes>"
      ]
     },
     "metadata": {
      "needs_background": "light"
     },
     "output_type": "display_data"
    }
   ],
   "source": []
  },
  {
   "cell_type": "code",
   "execution_count": 81,
   "id": "2c74f30a",
   "metadata": {},
   "outputs": [
    {
     "data": {
      "image/png": "[encoded data removed]",
      "text/plain": [
       "<Figure size 432x288 with 1 Axes>"
      ]
     },
     "metadata": {
      "needs_background": "light"
     },
     "output_type": "display_data"
    }
   ],
   "source": []
  },
  {
   "cell_type": "code",
   "execution_count": null,
   "id": "be7a56d6",
   "metadata": {},
   "outputs": [],
   "source": []
  }
 ],
 "metadata": {
  "kernelspec": {
   "display_name": "Python 3 (ipykernel)",
   "language": "python",
   "name": "python3"
  },
  "language_info": {
   "codemirror_mode": {
    "name": "ipython",
    "version": 3
   },
   "file_extension": ".py",
   "mimetype": "text/x-python",
   "name": "python",
   "nbconvert_exporter": "python",
   "pygments_lexer": "ipython3",
   "version": "3.9.0"
  }
 },
 "nbformat": 4,
 "nbformat_minor": 5
}
